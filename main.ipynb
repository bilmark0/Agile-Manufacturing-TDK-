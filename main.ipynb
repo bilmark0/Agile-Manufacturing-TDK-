{
  "nbformat": 4,
  "nbformat_minor": 0,
  "metadata": {
    "colab": {
      "provenance": [],
      "authorship_tag": "ABX9TyPpSVK6OK4D+Cd2nDdrIxVj",
      "include_colab_link": true
    },
    "kernelspec": {
      "name": "python3",
      "display_name": "Python 3"
    },
    "language_info": {
      "name": "python"
    }
  },
  "cells": [
    {
      "cell_type": "markdown",
      "metadata": {
        "id": "view-in-github",
        "colab_type": "text"
      },
      "source": [
        "<a href=\"https://colab.research.google.com/github/bilmark0/Agile-Manufacturing-TDK-/blob/main/Untitled18.ipynb\" target=\"_parent\"><img src=\"https://colab.research.google.com/assets/colab-badge.svg\" alt=\"Open In Colab\"/></a>"
      ]
    },
    {
      "cell_type": "markdown",
      "source": [
        "# Script for Downloading the Data\n",
        "1. We download the data  through the Kaggle API (for this we will have to provide out personal API key, this can be found at Kaggle profile settings).\n",
        "2. Extract the downloaded zip file"
      ],
      "metadata": {
        "id": "jwa68uuzgg4l"
      }
    },
    {
      "cell_type": "code",
      "execution_count": null,
      "metadata": {
        "id": "aaA-E1N7gBIZ"
      },
      "outputs": [],
      "source": [
        "#to be able to download the dataset to our current runtime\n",
        "!pip install kaggle"
      ]
    },
    {
      "cell_type": "code",
      "source": [
        "from google.colab import files\n",
        "\n",
        "# Upload the file\n",
        "uploaded = files.upload()\n",
        "\n",
        "# Get the actual file name from the dictionary\n",
        "file_name = list(uploaded.keys())[0]\n",
        "!mkdir ~/.kaggle\n",
        "!cp kaggle.json ~/.kaggle/\n",
        "!chmod 600 ~/.kaggle/kaggle.json\n",
        "\n",
        "# Save the API key securely without displaying it\n",
        "with open('/root/.kaggle/kaggle.json', 'wb') as f:\n",
        "    f.write(uploaded[file_name])\n",
        "\n",
        "# Set permissions\n",
        "!chmod 600 /root/.kaggle/kaggle.json\n"
      ],
      "metadata": {
        "id": "LTXf2JAHglDN"
      },
      "execution_count": null,
      "outputs": []
    },
    {
      "cell_type": "code",
      "source": [
        "!kaggle competitions download -c isic-2024-challenge"
      ],
      "metadata": {
        "id": "vKmquPFHgpO3"
      },
      "execution_count": null,
      "outputs": []
    },
    {
      "cell_type": "code",
      "source": [
        "import zipfile\n",
        "import os\n",
        "\n",
        "# Path to your zip file and extract location\n",
        "zip_file_path = 'isic-2024-challenge.zip'\n",
        "extract_to_path = 'data'\n",
        "\n",
        "# Extracting the zip file\n",
        "with zipfile.ZipFile(zip_file_path, 'r') as zip_ref:\n",
        "    zip_ref.extractall(extract_to_path)\n",
        "    print(\"Extraction completed.\")"
      ],
      "metadata": {
        "id": "-EcB0-m1gsNG"
      },
      "execution_count": null,
      "outputs": []
    },
    {
      "cell_type": "markdown",
      "source": [],
      "metadata": {
        "id": "hWVuRUNKg1gP"
      }
    }
  ]
}
