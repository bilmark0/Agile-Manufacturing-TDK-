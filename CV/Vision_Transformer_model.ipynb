{
  "nbformat": 4,
  "nbformat_minor": 0,
  "metadata": {
    "colab": {
      "provenance": [],
      "gpuType": "T4",
      "authorship_tag": "ABX9TyM5SOW0O+/Cp3FzEhCi8xmT",
      "include_colab_link": true
    },
    "kernelspec": {
      "name": "python3",
      "display_name": "Python 3"
    },
    "language_info": {
      "name": "python"
    },
    "accelerator": "GPU"
  },
  "cells": [
    {
      "cell_type": "markdown",
      "metadata": {
        "id": "view-in-github",
        "colab_type": "text"
      },
      "source": [
        "<a href=\"https://colab.research.google.com/github/bilmark0/Agile-Manufacturing-TDK-/blob/main/CV/Vision_Transformer_model.ipynb\" target=\"_parent\"><img src=\"https://colab.research.google.com/assets/colab-badge.svg\" alt=\"Open In Colab\"/></a>"
      ]
    },
    {
      "cell_type": "code",
      "execution_count": 1,
      "metadata": {
        "id": "56TKwtITQGS4"
      },
      "outputs": [],
      "source": [
        "import os\n",
        "import shutil\n",
        "import random\n",
        "from google.colab import drive, files\n",
        "import datetime\n",
        "import numpy as np\n",
        "import tensorflow as tf\n",
        "import tensorflow_datasets as tfds\n",
        "from tensorflow.keras import layers, models\n",
        "from tensorflow.keras.optimizers import Adam\n",
        "from tensorflow.keras.callbacks import EarlyStopping, ModelCheckpoint, ReduceLROnPlateau, Callback, TensorBoard\n",
        "import tensorflow.keras.mixed_precision as mixed_precision\n",
        "from sklearn.model_selection import train_test_split\n",
        "from tensorflow.keras.preprocessing.image import load_img, img_to_array\n",
        "import math  # For mathematical functions\n",
        "import PIL  # Pillow library for image processing\n",
        "import PIL.Image  # Specific import from Pillow for image manipulation\n",
        "import sys  # Provides access to system-specific parameters and functions\n",
        "from google.colab import files  # For file handling in Google Colab\n",
        "import seaborn as sns\n",
        "from sklearn.metrics import confusion_matrix"
      ]
    },
    {
      "cell_type": "code",
      "source": [
        "# Upload the kaggle.json file\n",
        "uploaded = files.upload()\n",
        "\n",
        "# Move the uploaded file to the .kaggle directory\n",
        "kaggle_api_path = os.path.expanduser(\"~/.kaggle\")\n",
        "if not os.path.exists(kaggle_api_path):\n",
        "    os.makedirs(kaggle_api_path)\n",
        "\n",
        "# Ensure the file is set with proper permissions\n",
        "kaggle_json_path = next(iter(uploaded))  # Get the uploaded filename\n",
        "os.rename(kaggle_json_path, f\"{kaggle_api_path}/kaggle.json\")\n",
        "os.chmod(f\"{kaggle_api_path}/kaggle.json\", 0o600)\n",
        "\n",
        "# Download the dataset from Kaggle\n",
        "!kaggle datasets download -d markbilszky/agile-manufacturing-tdk --unzip\n",
        "\n",
        "print(\"Dataset downloaded successfully.\")"
      ],
      "metadata": {
        "id": "1Kho_Ag8QWAC",
        "colab": {
          "base_uri": "https://localhost:8080/",
          "height": 177
        },
        "outputId": "d839f854-8d46-4042-bcb6-5a80869b720f"
      },
      "execution_count": 2,
      "outputs": [
        {
          "output_type": "display_data",
          "data": {
            "text/plain": [
              "<IPython.core.display.HTML object>"
            ],
            "text/html": [
              "\n",
              "     <input type=\"file\" id=\"files-7b338569-2338-438b-bc37-5de348ecf689\" name=\"files[]\" multiple disabled\n",
              "        style=\"border:none\" />\n",
              "     <output id=\"result-7b338569-2338-438b-bc37-5de348ecf689\">\n",
              "      Upload widget is only available when the cell has been executed in the\n",
              "      current browser session. Please rerun this cell to enable.\n",
              "      </output>\n",
              "      <script>// Copyright 2017 Google LLC\n",
              "//\n",
              "// Licensed under the Apache License, Version 2.0 (the \"License\");\n",
              "// you may not use this file except in compliance with the License.\n",
              "// You may obtain a copy of the License at\n",
              "//\n",
              "//      http://www.apache.org/licenses/LICENSE-2.0\n",
              "//\n",
              "// Unless required by applicable law or agreed to in writing, software\n",
              "// distributed under the License is distributed on an \"AS IS\" BASIS,\n",
              "// WITHOUT WARRANTIES OR CONDITIONS OF ANY KIND, either express or implied.\n",
              "// See the License for the specific language governing permissions and\n",
              "// limitations under the License.\n",
              "\n",
              "/**\n",
              " * @fileoverview Helpers for google.colab Python module.\n",
              " */\n",
              "(function(scope) {\n",
              "function span(text, styleAttributes = {}) {\n",
              "  const element = document.createElement('span');\n",
              "  element.textContent = text;\n",
              "  for (const key of Object.keys(styleAttributes)) {\n",
              "    element.style[key] = styleAttributes[key];\n",
              "  }\n",
              "  return element;\n",
              "}\n",
              "\n",
              "// Max number of bytes which will be uploaded at a time.\n",
              "const MAX_PAYLOAD_SIZE = 100 * 1024;\n",
              "\n",
              "function _uploadFiles(inputId, outputId) {\n",
              "  const steps = uploadFilesStep(inputId, outputId);\n",
              "  const outputElement = document.getElementById(outputId);\n",
              "  // Cache steps on the outputElement to make it available for the next call\n",
              "  // to uploadFilesContinue from Python.\n",
              "  outputElement.steps = steps;\n",
              "\n",
              "  return _uploadFilesContinue(outputId);\n",
              "}\n",
              "\n",
              "// This is roughly an async generator (not supported in the browser yet),\n",
              "// where there are multiple asynchronous steps and the Python side is going\n",
              "// to poll for completion of each step.\n",
              "// This uses a Promise to block the python side on completion of each step,\n",
              "// then passes the result of the previous step as the input to the next step.\n",
              "function _uploadFilesContinue(outputId) {\n",
              "  const outputElement = document.getElementById(outputId);\n",
              "  const steps = outputElement.steps;\n",
              "\n",
              "  const next = steps.next(outputElement.lastPromiseValue);\n",
              "  return Promise.resolve(next.value.promise).then((value) => {\n",
              "    // Cache the last promise value to make it available to the next\n",
              "    // step of the generator.\n",
              "    outputElement.lastPromiseValue = value;\n",
              "    return next.value.response;\n",
              "  });\n",
              "}\n",
              "\n",
              "/**\n",
              " * Generator function which is called between each async step of the upload\n",
              " * process.\n",
              " * @param {string} inputId Element ID of the input file picker element.\n",
              " * @param {string} outputId Element ID of the output display.\n",
              " * @return {!Iterable<!Object>} Iterable of next steps.\n",
              " */\n",
              "function* uploadFilesStep(inputId, outputId) {\n",
              "  const inputElement = document.getElementById(inputId);\n",
              "  inputElement.disabled = false;\n",
              "\n",
              "  const outputElement = document.getElementById(outputId);\n",
              "  outputElement.innerHTML = '';\n",
              "\n",
              "  const pickedPromise = new Promise((resolve) => {\n",
              "    inputElement.addEventListener('change', (e) => {\n",
              "      resolve(e.target.files);\n",
              "    });\n",
              "  });\n",
              "\n",
              "  const cancel = document.createElement('button');\n",
              "  inputElement.parentElement.appendChild(cancel);\n",
              "  cancel.textContent = 'Cancel upload';\n",
              "  const cancelPromise = new Promise((resolve) => {\n",
              "    cancel.onclick = () => {\n",
              "      resolve(null);\n",
              "    };\n",
              "  });\n",
              "\n",
              "  // Wait for the user to pick the files.\n",
              "  const files = yield {\n",
              "    promise: Promise.race([pickedPromise, cancelPromise]),\n",
              "    response: {\n",
              "      action: 'starting',\n",
              "    }\n",
              "  };\n",
              "\n",
              "  cancel.remove();\n",
              "\n",
              "  // Disable the input element since further picks are not allowed.\n",
              "  inputElement.disabled = true;\n",
              "\n",
              "  if (!files) {\n",
              "    return {\n",
              "      response: {\n",
              "        action: 'complete',\n",
              "      }\n",
              "    };\n",
              "  }\n",
              "\n",
              "  for (const file of files) {\n",
              "    const li = document.createElement('li');\n",
              "    li.append(span(file.name, {fontWeight: 'bold'}));\n",
              "    li.append(span(\n",
              "        `(${file.type || 'n/a'}) - ${file.size} bytes, ` +\n",
              "        `last modified: ${\n",
              "            file.lastModifiedDate ? file.lastModifiedDate.toLocaleDateString() :\n",
              "                                    'n/a'} - `));\n",
              "    const percent = span('0% done');\n",
              "    li.appendChild(percent);\n",
              "\n",
              "    outputElement.appendChild(li);\n",
              "\n",
              "    const fileDataPromise = new Promise((resolve) => {\n",
              "      const reader = new FileReader();\n",
              "      reader.onload = (e) => {\n",
              "        resolve(e.target.result);\n",
              "      };\n",
              "      reader.readAsArrayBuffer(file);\n",
              "    });\n",
              "    // Wait for the data to be ready.\n",
              "    let fileData = yield {\n",
              "      promise: fileDataPromise,\n",
              "      response: {\n",
              "        action: 'continue',\n",
              "      }\n",
              "    };\n",
              "\n",
              "    // Use a chunked sending to avoid message size limits. See b/62115660.\n",
              "    let position = 0;\n",
              "    do {\n",
              "      const length = Math.min(fileData.byteLength - position, MAX_PAYLOAD_SIZE);\n",
              "      const chunk = new Uint8Array(fileData, position, length);\n",
              "      position += length;\n",
              "\n",
              "      const base64 = btoa(String.fromCharCode.apply(null, chunk));\n",
              "      yield {\n",
              "        response: {\n",
              "          action: 'append',\n",
              "          file: file.name,\n",
              "          data: base64,\n",
              "        },\n",
              "      };\n",
              "\n",
              "      let percentDone = fileData.byteLength === 0 ?\n",
              "          100 :\n",
              "          Math.round((position / fileData.byteLength) * 100);\n",
              "      percent.textContent = `${percentDone}% done`;\n",
              "\n",
              "    } while (position < fileData.byteLength);\n",
              "  }\n",
              "\n",
              "  // All done.\n",
              "  yield {\n",
              "    response: {\n",
              "      action: 'complete',\n",
              "    }\n",
              "  };\n",
              "}\n",
              "\n",
              "scope.google = scope.google || {};\n",
              "scope.google.colab = scope.google.colab || {};\n",
              "scope.google.colab._files = {\n",
              "  _uploadFiles,\n",
              "  _uploadFilesContinue,\n",
              "};\n",
              "})(self);\n",
              "</script> "
            ]
          },
          "metadata": {}
        },
        {
          "output_type": "stream",
          "name": "stdout",
          "text": [
            "Saving kaggle.json to kaggle.json\n",
            "Dataset URL: https://www.kaggle.com/datasets/markbilszky/agile-manufacturing-tdk\n",
            "License(s): unknown\n",
            "Downloading agile-manufacturing-tdk.zip to /content\n",
            " 99% 1.88G/1.89G [00:26<00:00, 92.1MB/s]\n",
            "100% 1.89G/1.89G [00:26<00:00, 76.9MB/s]\n",
            "Dataset downloaded successfully.\n"
          ]
        }
      ]
    },
    {
      "cell_type": "code",
      "source": [
        "# Set your paths here\n",
        "base_path = './'  # Replace with the directory containing Reference, error_2, and error_3\n",
        "new_folder_path = os.path.join(base_path, 'training_data')\n",
        "\n",
        "# Create the new folder\n",
        "os.makedirs(new_folder_path, exist_ok=True)\n",
        "\n",
        "# Move the folders\n",
        "folders_to_move = ['Reference', 'error_2', 'error_3']\n",
        "for folder_name in folders_to_move:\n",
        "    shutil.move(os.path.join(base_path, folder_name), new_folder_path)\n",
        "\n",
        "print(\"Folders moved successfully!\")"
      ],
      "metadata": {
        "id": "dtFNg2RDzIWh",
        "colab": {
          "base_uri": "https://localhost:8080/"
        },
        "outputId": "d2045dc0-f9bf-41e5-cb99-93464660d343"
      },
      "execution_count": 3,
      "outputs": [
        {
          "output_type": "stream",
          "name": "stdout",
          "text": [
            "Folders moved successfully!\n"
          ]
        }
      ]
    },
    {
      "cell_type": "code",
      "source": [
        "# Path to the training data directory\n",
        "data_dir = './training_data'\n",
        "\n",
        "# List of main folders to check for nested duplicates\n",
        "main_folders = os.listdir(data_dir)\n",
        "\n",
        "for folder in main_folders:\n",
        "    folder_path = os.path.join(data_dir, folder)\n",
        "\n",
        "    # Check if this path is indeed a folder\n",
        "    if os.path.isdir(folder_path):\n",
        "        # Path to the nested duplicate folder (if exists)\n",
        "        nested_folder_path = os.path.join(folder_path, folder)\n",
        "\n",
        "        # Check if a nested folder with the same name exists\n",
        "        if os.path.isdir(nested_folder_path):\n",
        "            print(f\"Found duplicate folder: {nested_folder_path}\")\n",
        "\n",
        "            # Move all files from nested folder to the main folder\n",
        "            for filename in os.listdir(nested_folder_path):\n",
        "                file_path = os.path.join(nested_folder_path, filename)\n",
        "                target_path = os.path.join(folder_path, filename)\n",
        "\n",
        "                # Move file to the main folder\n",
        "                if os.path.isfile(file_path):\n",
        "                    shutil.move(file_path, target_path)\n",
        "                    #print(f\"Moved {file_path} to {target_path}\")\n",
        "\n",
        "            # Remove the nested duplicate folder after moving its contents\n",
        "            os.rmdir(nested_folder_path)\n",
        "            print(f\"Removed duplicate folder: {nested_folder_path}\")\n",
        "\n",
        "print(\"Duplicate folders cleaned up successfully.\")"
      ],
      "metadata": {
        "id": "lUR6cM6NJ632",
        "colab": {
          "base_uri": "https://localhost:8080/"
        },
        "outputId": "1a47fbcc-7458-41b6-9462-8d892588f787"
      },
      "execution_count": 4,
      "outputs": [
        {
          "output_type": "stream",
          "name": "stdout",
          "text": [
            "Found duplicate folder: ./training_data/error_2/error_2\n",
            "Removed duplicate folder: ./training_data/error_2/error_2\n",
            "Found duplicate folder: ./training_data/Reference/Reference\n",
            "Removed duplicate folder: ./training_data/Reference/Reference\n",
            "Found duplicate folder: ./training_data/error_3/error_3\n",
            "Removed duplicate folder: ./training_data/error_3/error_3\n",
            "Duplicate folders cleaned up successfully.\n"
          ]
        }
      ]
    },
    {
      "cell_type": "code",
      "source": [
        "# Load the TensorBoard notebook extension\n",
        "%load_ext tensorboard\n",
        "# Clear any logs from previous runs\n",
        "!rm -rf ./logs/"
      ],
      "metadata": {
        "id": "Q7UWI7K1cnvS"
      },
      "execution_count": 5,
      "outputs": []
    },
    {
      "cell_type": "code",
      "source": [
        "data_dir = './training_data'  # Ensure this path is correct for your dataset\n",
        "all_classes = sorted(os.listdir(data_dir))  # List and sort class folders in the dataset directory\n",
        "train_files = []\n",
        "\n",
        "\n",
        "for cls in all_classes:\n",
        "    cls_dir = os.path.join(data_dir, cls)\n",
        "    if os.path.isdir(cls_dir):\n",
        "        files = [os.path.join(cls_dir, file) for file in os.listdir(cls_dir) if file.endswith(('png', 'jpg', 'jpeg'))]\n",
        "        print(f\"Class: {cls}, Number of files: {len(files)}\")\n",
        "        train_files.extend(files)\n"
      ],
      "metadata": {
        "id": "DzkjQ45vvIia",
        "outputId": "963fb3b3-3b8f-46c8-991d-212d503c2915",
        "colab": {
          "base_uri": "https://localhost:8080/"
        }
      },
      "execution_count": 6,
      "outputs": [
        {
          "output_type": "stream",
          "name": "stdout",
          "text": [
            "Class: Reference, Number of files: 1000\n",
            "Class: error_2, Number of files: 7903\n",
            "Class: error_3, Number of files: 10000\n"
          ]
        }
      ]
    },
    {
      "cell_type": "code",
      "source": [
        "# Set a fixed random seed for reproducibility\n",
        "seed_value = 42\n",
        "os.environ['PYTHONHASHSEED'] = str(seed_value)\n",
        "random.seed(seed_value)\n",
        "np.random.seed(seed_value)\n",
        "tf.random.set_seed(seed_value)\n",
        "\n",
        "# Hyperparameters for the learning rate\n",
        "fixed_lr = 0.002  # Set a fixed learning rate\n",
        "total_epochs = 1000\n",
        "batch_size = 8\n",
        "img_height, img_width = 140, 190\n",
        "data_dir = './training_data'\n",
        "\n",
        "# Split dataset into training, validation, and test sets\n",
        "all_classes = sorted(os.listdir(data_dir))\n",
        "train_files = []\n",
        "val_files = []\n",
        "\n",
        "# Collect all file paths and their corresponding classes\n",
        "for cls in all_classes:\n",
        "    cls_dir = os.path.join(data_dir, cls)\n",
        "    if os.path.isdir(cls_dir):\n",
        "        files = [os.path.join(cls_dir, file) for file in os.listdir(cls_dir) if file.endswith(('png', 'jpg', 'jpeg'))]\n",
        "        train_files.extend(files)\n",
        "\n",
        "# Create a split for training, validation, and test data\n",
        "train_files, test_files = train_test_split(train_files, test_size=0.15, random_state=42)  # 20% for test\n",
        "train_files, val_files = train_test_split(train_files, test_size=0.15, random_state=42)  # 20% of the remaining 80% for validation\n",
        "\n",
        "# Function to create a generator from file paths\n",
        "def create_generator(file_paths, batch_size):\n",
        "    while True:\n",
        "        np.random.shuffle(file_paths)\n",
        "        for i in range(0, len(file_paths), batch_size):\n",
        "            batch_paths = file_paths[i:i+batch_size]\n",
        "            images = []\n",
        "            labels = []\n",
        "            for path in batch_paths:\n",
        "                img = tf.keras.preprocessing.image.load_img(path, target_size=(img_height, img_width))\n",
        "                img = tf.keras.preprocessing.image.img_to_array(img) / 255.0  # Rescale\n",
        "                images.append(img)\n",
        "                label = path.split(os.path.sep)[-2]  # Get the label from the directory name\n",
        "                labels.append(all_classes.index(label))\n",
        "            yield np.array(images), tf.keras.utils.to_categorical(labels, num_classes=len(all_classes))\n",
        "\n",
        "# Create the data generators\n",
        "train_generator = create_generator(train_files, batch_size=batch_size)\n",
        "val_generator = create_generator(val_files, batch_size=batch_size)\n",
        "test_generator = create_generator(test_files, batch_size=batch_size)\n",
        "\n",
        "# Set up TensorBoard\n",
        "log_dir = \"logs/fit/\" + datetime.datetime.now().strftime(\"%Y%m%d-%H%M%S\")\n",
        "tensorboard_callback = TensorBoard(log_dir=log_dir, histogram_freq=1)\n",
        "\n",
        "\"\"\"\n",
        "# Set mixed precision policy\n",
        "policy = mixed_precision.Policy('mixed_float16')\n",
        "mixed_precision.set_global_policy(policy)\n",
        "\"\"\"\n",
        "# Define the Vision Transformer model\n",
        "def create_vit_model(input_shape):\n",
        "    inputs = layers.Input(shape=input_shape)\n",
        "    x = layers.Conv2D(8, (3, 3), padding='same', activation='relu', kernel_initializer='he_normal', kernel_regularizer='l2')(inputs)\n",
        "    x = layers.MaxPooling2D((2, 2))(x)\n",
        "\n",
        "    # Reshape for transformer input\n",
        "    x = layers.Reshape((-1, x.shape[-1]))(x)\n",
        "\n",
        "    # Transformer block\n",
        "    for _ in range(2):  # Number of transformer blocks\n",
        "        x_res = x\n",
        "        x = layers.LayerNormalization(epsilon=1e-6)(x)\n",
        "        attention_output = layers.MultiHeadAttention(num_heads=2, key_dim=8)(x, x)\n",
        "        x = layers.Add()([x_res, attention_output])\n",
        "        x = layers.LayerNormalization(epsilon=1e-6)(x)\n",
        "        x_res = x\n",
        "        x = layers.Dense(64, activation='relu', kernel_regularizer='l2')(x)\n",
        "        x = layers.Dropout(0.3)(x)\n",
        "        x = layers.Dense(x_res.shape[-1])(x)\n",
        "        x = layers.Add()([x_res, x])\n",
        "\n",
        "    x = layers.GlobalAveragePooling1D()(x)\n",
        "    x = layers.Dense(256, activation='relu', kernel_regularizer='l2')(x)\n",
        "    x = layers.Dropout(0.5)(x)\n",
        "    outputs = layers.Dense(3, activation='softmax')(x)\n",
        "\n",
        "    model = models.Model(inputs, outputs)\n",
        "    return model\n",
        "\n",
        "# Create and compile the model\n",
        "model = create_vit_model((img_height, img_width, 3))  # Input shape should have 1 channel for grayscale\n",
        "model.compile(optimizer=Adam(learning_rate=fixed_lr),\n",
        "              loss='categorical_crossentropy',\n",
        "              metrics=['accuracy'])\n",
        "\n",
        "# Set up early stopping and model checkpoint\n",
        "early_stopping = EarlyStopping(monitor='val_loss', patience=25, restore_best_weights=True)\n",
        "model_checkpoint = ModelCheckpoint(\n",
        "    'best_model.keras',\n",
        "    monitor='val_loss',\n",
        "    save_best_only=True,\n",
        "    mode='min',\n",
        "    verbose=2\n",
        ")\n",
        "reduce_lr = ReduceLROnPlateau(monitor='val_loss', factor=0.5, patience=10, min_lr=1e-6, verbose=1)\n",
        "\n",
        "# Calculate the number of steps per epoch\n",
        "steps_per_epoch = len(train_files) // batch_size\n",
        "validation_steps = len(val_files) // batch_size\n",
        "test_steps = len(test_files) // batch_size\n",
        "\n",
        "# Train the model with the sinusoidal learning rate callback\n",
        "model.fit(\n",
        "    train_generator,\n",
        "    steps_per_epoch=steps_per_epoch,\n",
        "    validation_data=val_generator,\n",
        "    validation_steps=validation_steps,\n",
        "    epochs=total_epochs,\n",
        "    callbacks=[early_stopping, model_checkpoint, tensorboard_callback]\n",
        ")\n",
        "\n",
        "# Evaluate the model on the test set\n",
        "loss, accuracy = model.evaluate(test_generator, steps=test_steps)\n",
        "print(f'Test Loss: {loss}, Accuracy: {accuracy}')"
      ],
      "metadata": {
        "id": "dULA_2FRQZFX",
        "colab": {
          "base_uri": "https://localhost:8080/"
        },
        "outputId": "05d451d8-af95-4b0c-dfd3-c803381ce7d4"
      },
      "execution_count": null,
      "outputs": [
        {
          "output_type": "stream",
          "name": "stdout",
          "text": [
            "Epoch 1/1000\n",
            "\u001b[1m   5/1707\u001b[0m \u001b[37m━━━━━━━━━━━━━━━━━━━━\u001b[0m \u001b[1m25:17:35\u001b[0m 53s/step - accuracy: 0.2612 - loss: 1.8262"
          ]
        }
      ]
    },
    {
      "cell_type": "code",
      "source": [
        "model.summary()"
      ],
      "metadata": {
        "id": "nSZBMTyJYSSY"
      },
      "execution_count": null,
      "outputs": []
    },
    {
      "cell_type": "code",
      "source": [
        "print('Rétegek:\\n')\n",
        "for layer in model.layers:\n",
        "    print(\"Réteg neve: \", layer.name, ', tanítható: ', layer.trainable)\n",
        "    print(layer.get_config(),'\\n')"
      ],
      "metadata": {
        "id": "TaaRRc5Fc6uD"
      },
      "execution_count": null,
      "outputs": []
    },
    {
      "cell_type": "code",
      "source": [
        "!pip3 install keras-visualizer\n",
        "from keras_visualizer import visualizer\n",
        "import matplotlib.image as mpimg\n",
        "visualizer(model, file_format='png', view=True)\n",
        "img = mpimg.imread('graph.png')\n",
        "fig = plt.figure(figsize=[20,9])\n",
        "plt.imshow(img)\n",
        "plt.axis('off')"
      ],
      "metadata": {
        "id": "wEmh809Xc8Ac"
      },
      "execution_count": null,
      "outputs": []
    },
    {
      "cell_type": "code",
      "source": [
        "# Logging images to TensorBoard\n",
        "# Logging images to TensorBoard\n",
        "file_writer = tf.summary.create_file_writer(logdir)\n",
        "\n",
        "with tf.name_scope(\"Test\") as scope:\n",
        "    with file_writer.as_default():\n",
        "        # Reshape the first three images from your test dataset\n",
        "        img = np.reshape(test_images[0:3], (-1, img_height, img_width, 3))  # Adjust to (num_samples, height, width, channels)\n",
        "        tf.summary.image(\"Test Images\", img, step=0, max_outputs=3, description=\"Sample images from the test set\")\n",
        "\n",
        "# Remember to flush the writer to ensure the images are saved\n",
        "file_writer.flush()"
      ],
      "metadata": {
        "id": "51yZBFG7c9is"
      },
      "execution_count": null,
      "outputs": []
    },
    {
      "cell_type": "code",
      "source": [
        "# Get predictions from the model\n",
        "predictions = model.predict(test_generator, steps=test_steps)\n",
        "predicted_classes = np.argmax(predictions, axis=1)  # Get the predicted class labels\n",
        "\n",
        "# Get the true class labels from the test set\n",
        "true_classes = []\n",
        "for _, labels in test_generator:\n",
        "    true_classes.extend(np.argmax(labels, axis=1))  # Assuming labels are one-hot encoded\n",
        "true_classes = np.array(true_classes)\n",
        "\n",
        "# Calculate the confusion matrix\n",
        "cm = confusion_matrix(true_classes, predicted_classes)\n",
        "\n",
        "# Plot the confusion matrix\n",
        "plt.figure(figsize=(8, 6))\n",
        "sns.heatmap(cm, annot=True, fmt='d', cmap='Blues', xticklabels=['Class 0', 'Class 1', 'Class 2'], yticklabels=['Class 0', 'Class 1', 'Class 2'])\n",
        "plt.title('Confusion Matrix')\n",
        "plt.xlabel('Predicted Classes')\n",
        "plt.ylabel('True Classes')\n",
        "plt.show()"
      ],
      "metadata": {
        "id": "88G0IIdGc_Er"
      },
      "execution_count": null,
      "outputs": []
    },
    {
      "cell_type": "code",
      "source": [
        "# Load TensorBoard\n",
        "%load_ext tensorboard\n",
        "\n",
        "# Start TensorBoard\n",
        "logdir = \"logs/fit/\"  # Ensure this matches your logging path\n",
        "%tensorboard --logdir {logdir}"
      ],
      "metadata": {
        "id": "fYWAPfT2dBGh"
      },
      "execution_count": null,
      "outputs": []
    }
  ]
}