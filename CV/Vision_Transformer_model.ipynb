{
  "nbformat": 4,
  "nbformat_minor": 0,
  "metadata": {
    "colab": {
      "provenance": [],
      "include_colab_link": true
    },
    "kernelspec": {
      "name": "python3",
      "display_name": "Python 3"
    },
    "language_info": {
      "name": "python"
    }
  },
  "cells": [
    {
      "cell_type": "markdown",
      "metadata": {
        "id": "view-in-github",
        "colab_type": "text"
      },
      "source": [
        "<a href=\"https://colab.research.google.com/github/bilmark0/Agile-Manufacturing-TDK-/blob/main/CV/Vision_Transformer_model.ipynb\" target=\"_parent\"><img src=\"https://colab.research.google.com/assets/colab-badge.svg\" alt=\"Open In Colab\"/></a>"
      ]
    },
    {
      "cell_type": "code",
      "execution_count": null,
      "metadata": {
        "id": "56TKwtITQGS4"
      },
      "outputs": [],
      "source": [
        "import os\n",
        "import shutil\n",
        "import random\n",
        "from google.colab import drive\n",
        "import numpy as np\n",
        "import tensorflow as tf\n",
        "import tensorflow_datasets as tfds\n",
        "from tensorflow.keras import layers, models\n",
        "from tensorflow.keras.optimizers import Adam\n",
        "from tensorflow.keras.callbacks import EarlyStopping\n",
        "from tensorflow.keras.preprocessing.image import ImageDataGenerator\n",
        "import PIL\n",
        "import PIL.Image\n",
        "import sys"
      ]
    },
    {
      "cell_type": "code",
      "source": [
        "\"\"\"\n",
        "# Clone the GitHub repository\n",
        "!git clone https://github.com/bilmark0/Agile-Manufacturing-TDK-.git\n",
        "\n",
        "# Append the modules path\n",
        "sys.path.append(\"/content/Agile-Manufacturing-TDK-/CV/modules\")\n",
        "\n",
        "# Import DependencyManager from the correct module path\n",
        "from dependency_manager import DependencyManager\n",
        "\"\"\""
      ],
      "metadata": {
        "id": "zYg8phKTQJcr"
      },
      "execution_count": null,
      "outputs": []
    },
    {
      "cell_type": "code",
      "source": [
        "!pip install kaggle\n",
        "from google.colab import files\n",
        "import zipfile\n",
        "\n",
        "uploaded = files.upload()\n",
        "\n",
        "# Move the uploaded kaggle.json file to the proper directory\n",
        "!mkdir -p ~/.kaggle\n",
        "!cp kaggle.json ~/.kaggle/\n",
        "!chmod 600 ~/.kaggle/kaggle.json\n",
        "\n",
        "# Download the training data from kaggle\n",
        "!kaggle competitions download -c airbus-ship-detection\n",
        "\n",
        "# Unzip the file and delete the zip afterwards\n",
        "zip_file = '/content/airbus-ship-detection.zip'\n",
        "with zipfile.ZipFile(zip_file, 'r') as zip_ref:\n",
        "    zip_ref.extractall()\n",
        "os.remove(zip_file)\n",
        "if os.path.exists('/content/sample_data'):\n",
        "  shutil.rmtree('/content/sample_data')\n",
        "\n",
        "print(\"Download and extraction complete.\")"
      ],
      "metadata": {
        "id": "1Kho_Ag8QWAC"
      },
      "execution_count": null,
      "outputs": []
    },
    {
      "cell_type": "code",
      "source": [
        "# Define source directories and target directory\n",
        "source_dirs = ['Reference', 'error_2', 'error_3']\n",
        "target_dir = 'training_data'\n",
        "\n",
        "# Create the target directory if it doesn't exist\n",
        "if not os.path.exists(target_dir):\n",
        "    os.makedirs(target_dir)\n",
        "\n",
        "# Move each source directory into the target directory\n",
        "for dir_name in source_dirs:\n",
        "    shutil.move(dir_name, target_dir)\n",
        "\n",
        "print(\"Folders moved to\", target_dir)"
      ],
      "metadata": {
        "id": "5Hp_0qVJ3yQu"
      },
      "execution_count": null,
      "outputs": []
    },
    {
      "cell_type": "code",
      "source": [
        "data_dir = '/path/to/your/faulty_directory'\n",
        "img_height, img_width = 240, 380\n",
        "\n",
        "# Data generator with validation split\n",
        "datagen = ImageDataGenerator(\n",
        "    rescale=1./255,\n",
        "    validation_split=0.1\n",
        ")\n",
        "\n",
        "# Training and validation data generators\n",
        "train_generator = datagen.flow_from_directory(\n",
        "    data_dir,\n",
        "    target_size=(img_height, img_width),\n",
        "    batch_size=32,\n",
        "    class_mode='binary',\n",
        "    subset='training'\n",
        ")\n",
        "\n",
        "val_generator = datagen.flow_from_directory(\n",
        "    data_dir,\n",
        "    target_size=(img_height, img_width),\n",
        "    batch_size=32,\n",
        "    class_mode='binary',\n",
        "    subset='validation'\n",
        ")\n",
        "\n",
        "# Define the Vision Transformer model\n",
        "def create_vit_model(input_shape):\n",
        "    inputs = layers.Input(shape=input_shape)\n",
        "    x = layers.Conv2D(16, (3, 3), padding='same')(inputs)\n",
        "    x = layers.MaxPooling2D((2, 2))(x)\n",
        "    x = layers.Reshape((-1, x.shape[-1]))(x)  # Reshape for transformer\n",
        "\n",
        "    # Transformer block\n",
        "    for _ in range(4):  # 4 transformer blocks\n",
        "        x_res = x\n",
        "        x = layers.LayerNormalization(epsilon=1e-6)(x)\n",
        "        attention_output = layers.MultiHeadAttention(num_heads=4, key_dim=16)(x, x)\n",
        "        x = layers.Add()([x_res, attention_output])\n",
        "        x = layers.LayerNormalization(epsilon=1e-6)(x)\n",
        "        x_res = x\n",
        "        x = layers.Dense(64, activation='relu')(x)\n",
        "        x = layers.Dense(x.shape[-1])(x)\n",
        "        x = layers.Add()([x_res, x])\n",
        "\n",
        "    x = layers.GlobalAveragePooling1D()(x)\n",
        "    x = layers.Dense(512, activation='relu')(x)\n",
        "    x = layers.Dropout(0.5)(x)\n",
        "    outputs = layers.Dense(1, activation='sigmoid')(x)\n",
        "\n",
        "    model = models.Model(inputs, outputs)\n",
        "    return model\n",
        "\n",
        "# Create and compile the model\n",
        "model = create_vit_model((img_height, img_width, 3))\n",
        "model.compile(optimizer=Adam(learning_rate=0.0001),\n",
        "              loss='binary_crossentropy',\n",
        "              metrics=['accuracy'])\n",
        "\n",
        "# Set up early stopping\n",
        "early_stopping = EarlyStopping(monitor='val_loss', patience=5, restore_best_weights=True)\n",
        "\n",
        "# Train the model\n",
        "history = model.fit(\n",
        "    train_generator,\n",
        "    epochs=50,\n",
        "    validation_data=val_generator,\n",
        "    callbacks=[early_stopping]\n",
        ")\n",
        "\n",
        "# Evaluate the model\n",
        "loss, accuracy = model.evaluate(val_generator)\n",
        "print(f'Validation Loss: {loss}, Accuracy: {accuracy}')\n",
        "\n",
        "# Save the trained model\n",
        "model.save('/content/drive/MyDrive/object_detection_vit_model.h5')"
      ],
      "metadata": {
        "id": "dULA_2FRQZFX"
      },
      "execution_count": null,
      "outputs": []
    }
  ]
}