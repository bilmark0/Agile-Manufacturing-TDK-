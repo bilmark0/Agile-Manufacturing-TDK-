{
  "cells": [
    {
      "cell_type": "markdown",
      "metadata": {
        "id": "view-in-github",
        "colab_type": "text"
      },
      "source": [
        "<a href=\"https://colab.research.google.com/github/bilmark0/Agile-Manufacturing-TDK-/blob/main/CV/CNN_VGG16.ipynb\" target=\"_parent\"><img src=\"https://colab.research.google.com/assets/colab-badge.svg\" alt=\"Open In Colab\"/></a>"
      ]
    },
    {
      "cell_type": "code",
      "source": [
        "import os\n",
        "import shutil\n",
        "import random\n",
        "from google.colab import drive\n",
        "import numpy as np\n",
        "import tensorflow as tf\n",
        "import tensorflow_datasets as tfds\n",
        "from tensorflow.keras.models import Sequential\n",
        "from tensorflow.keras.layers import Dense, GlobalAveragePooling2D, Dropout\n",
        "from tensorflow.keras.applications import VGG16\n",
        "from tensorflow.keras.optimizers import Adam\n",
        "from tensorflow.keras.callbacks import EarlyStopping\n",
        "from tensorflow.keras.preprocessing.image import ImageDataGenerator\n",
        "import PIL\n",
        "import PIL.Image\n",
        "import sys"
      ],
      "metadata": {
        "id": "eer5nT4OTZ-7"
      },
      "execution_count": null,
      "outputs": []
    },
    {
      "cell_type": "code",
      "execution_count": null,
      "metadata": {
        "id": "7zxrey9XSDqd"
      },
      "outputs": [],
      "source": [
        "import os\n",
        "from google.colab import files\n",
        "\n",
        "# Upload the kaggle.json file\n",
        "uploaded = files.upload()\n",
        "\n",
        "# Move the uploaded file to the .kaggle directory\n",
        "kaggle_api_path = os.path.expanduser(\"~/.kaggle\")\n",
        "if not os.path.exists(kaggle_api_path):\n",
        "    os.makedirs(kaggle_api_path)\n",
        "\n",
        "# Ensure the file is set with proper permissions\n",
        "kaggle_json_path = next(iter(uploaded))  # Get the uploaded filename\n",
        "os.rename(kaggle_json_path, f\"{kaggle_api_path}/kaggle.json\")\n",
        "os.chmod(f\"{kaggle_api_path}/kaggle.json\", 0o600)\n",
        "\n",
        "# Download the dataset from Kaggle\n",
        "!kaggle datasets download -d markbilszky/agile-manufacturing-tdk --unzip\n",
        "\n",
        "print(\"Dataset downloaded successfully.\")"
      ]
    },
    {
      "cell_type": "code",
      "execution_count": null,
      "metadata": {
        "id": "bMFNE0Ug0LKW"
      },
      "outputs": [],
      "source": [
        "data_dir = '/path/to/your/faulty_directory'\n",
        "\n",
        "img_height, img_width = 240, 380\n",
        "\n",
        "# Data generator with augmentation and validation split\n",
        "datagen = ImageDataGenerator(\n",
        "    rescale=1./255,\n",
        "    rotation_range=20,\n",
        "    width_shift_range=0.2,\n",
        "    height_shift_range=0.2,\n",
        "    shear_range=0.2,\n",
        "    zoom_range=0.2,\n",
        "    horizontal_flip=True,\n",
        "    fill_mode='nearest',\n",
        "    validation_split=0.1  # Use 10% of the data for validation\n",
        ")\n",
        "\n",
        "# Training data generator\n",
        "train_generator = datagen.flow_from_directory(\n",
        "    data_dir,\n",
        "    target_size=(img_height, img_width),\n",
        "    batch_size=32,\n",
        "    class_mode='binary',\n",
        "    subset='training'  # Set as training data\n",
        ")\n",
        "\n",
        "# Validation data generator\n",
        "val_generator = datagen.flow_from_directory(\n",
        "    data_dir,\n",
        "    target_size=(img_height, img_width),\n",
        "    batch_size=32,\n",
        "    class_mode='binary',\n",
        "    subset='validation'  # Set as validation data\n",
        ")\n",
        "\n",
        "# Load the VGG16 model without the top layers and freeze its convolutional layers\n",
        "base_model = VGG16(weights='imagenet', include_top=False, input_shape=(img_height, img_width, 3))\n",
        "base_model.trainable = False\n",
        "\n",
        "# Build the Sequential model\n",
        "model = Sequential()\n",
        "\n",
        "# Add the base model (pre-trained convolutional layers)\n",
        "model.add(base_model)\n",
        "\n",
        "# Use GlobalAveragePooling2D instead of Flatten\n",
        "model.add(GlobalAveragePooling2D())\n",
        "\n",
        "# Adjusted dense layers for better performance\n",
        "model.add(Dense(512, activation='relu'))  # First dense layer with 512 neurons\n",
        "model.add(Dropout(0.5))  # Adding dropout to prevent overfitting\n",
        "model.add(Dense(256, activation='relu'))  # Second dense layer with 256 neurons\n",
        "model.add(Dense(1, activation='sigmoid'))  # Output layer for binary classification\n",
        "\n",
        "# Compile the model with a binary cross-entropy loss function for binary classification\n",
        "model.compile(optimizer=Adam(learning_rate=0.0001),\n",
        "              loss='binary_crossentropy',\n",
        "              metrics=['accuracy'])\n",
        "\n",
        "# Set up early stopping\n",
        "early_stopping = EarlyStopping(monitor='val_loss', patience=5, restore_best_weights=True)\n",
        "\n",
        "# Train the model\n",
        "history = model.fit(\n",
        "    train_generator,\n",
        "    epochs=50,\n",
        "    validation_data=val_generator,\n",
        "    callbacks=[early_stopping]\n",
        ")\n",
        "\n",
        "# Evaluate the model\n",
        "loss, accuracy = model.evaluate(val_generator)\n",
        "print(f'Validation Loss: {loss}, Accuracy: {accuracy}')\n",
        "\n",
        "# Save the trained model\n",
        "model.save('/content/drive/MyDrive/object_detection_model.h5')\n"
      ]
    }
  ],
  "metadata": {
    "colab": {
      "provenance": [],
      "include_colab_link": true
    },
    "kernelspec": {
      "display_name": "Python 3",
      "name": "python3"
    },
    "language_info": {
      "name": "python"
    }
  },
  "nbformat": 4,
  "nbformat_minor": 0
}